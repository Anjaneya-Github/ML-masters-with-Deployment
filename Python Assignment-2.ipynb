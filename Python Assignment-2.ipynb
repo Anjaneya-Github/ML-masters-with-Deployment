{
 "cells": [
  {
   "cell_type": "markdown",
   "metadata": {},
   "source": [
    "Task 1:\n",
    "1.1\n",
    "Write a Python Program to implement your own myreduce() function which works exactly like\n",
    "Python's built-in function reduce()"
   ]
  },
  {
   "cell_type": "code",
   "execution_count": 1,
   "metadata": {},
   "outputs": [
    {
     "name": "stdout",
     "output_type": "stream",
     "text": [
      "Sum on list [1,2,3] using custom reduce function 6\n",
      "Mul on list [1,2,3] using custom reduce function 12\n"
     ]
    }
   ],
   "source": [
    "# Reduce function\n",
    "def myreduce(anyfunc, sequence):\n",
    "\n",
    " # Get first item in sequence and assign to result\n",
    "  result = sequence[0]\n",
    " # iterate over remaining items in sequence \n",
    "  for item in sequence[1:]:\n",
    "   result = anyfunc(result, item)\n",
    "\n",
    "  return result\n",
    "\n",
    "#Test myreduce\n",
    "def sum(x,y): return x + y\n",
    "\n",
    "def Mul(x,y): return x * y\n",
    "\n",
    "print (\"Sum on list [1,2,3] using custom reduce function \"   + str(myreduce(sum, [1,2,3])) )\n",
    "\n",
    "print (\"Mul on list [1,2,3] using custom reduce function \"   + str(myreduce(Mul, [1,4,3])) )\n",
    "\n"
   ]
  },
  {
   "cell_type": "code",
   "execution_count": 2,
   "metadata": {},
   "outputs": [
    {
     "name": "stdout",
     "output_type": "stream",
     "text": [
      "24\n"
     ]
    }
   ],
   "source": [
    "#Test myreduce using lambda\n",
    "product = myreduce((lambda x, y: x * y), [1, 2, 3, 4])\n",
    "\n",
    "print(product)\n",
    "\n"
   ]
  },
  {
   "cell_type": "markdown",
   "metadata": {},
   "source": [
    "1.2\n",
    "Write a Python program to implement your own myfilter() function which works exactly like\n",
    "Python's built-in function filter()"
   ]
  },
  {
   "cell_type": "code",
   "execution_count": 3,
   "metadata": {},
   "outputs": [
    {
     "name": "stdout",
     "output_type": "stream",
     "text": [
      "Filter only positive Integers on list [0,1,-7,6,9,5] using custom filter function[1, 6, 9, 5]\n"
     ]
    }
   ],
   "source": [
    "#filter function \n",
    "def myfilter(anyfunc, sequence):\n",
    "\n",
    " # Initialize empty list\n",
    " result = []\n",
    " # iterate over sequence of items\n",
    " for item in sequence:\n",
    "  if anyfunc(item):\n",
    "   result.append(item)\n",
    "\n",
    "\n",
    " return result\n",
    "\n",
    "# test myfilter function\n",
    "def ispositive(x):\n",
    " if (x <= 0): \n",
    "  return False \n",
    " else: \n",
    "  return True\n",
    "\n",
    "print (\"Filter only positive Integers on list [0,1,-7,6,9,5] using custom filter function\"  + str(myfilter(ispositive, [0,1,-7,6,9,5])))"
   ]
  },
  {
   "cell_type": "code",
   "execution_count": 4,
   "metadata": {},
   "outputs": [
    {
     "name": "stdout",
     "output_type": "stream",
     "text": [
      "[-5, -4, -3, -2, -1]\n",
      "[1, 2, 3, 4]\n"
     ]
    }
   ],
   "source": [
    "#Test myfilter using lambda\n",
    "number_list = range(-5, 5)\n",
    "less_than_zero = list(myfilter(lambda x: x < 0, number_list))\n",
    "greater_than_zero=list(myfilter(lambda x: x > 0, number_list))\n",
    "print(less_than_zero)\n",
    "print (greater_than_zero)"
   ]
  },
  {
   "cell_type": "markdown",
   "metadata": {},
   "source": [
    "2.Implement List comprehensions to produce the following lists.\n",
    "  Write List comprehensions to produce the following Lists\n",
    "['A', 'C', 'A', 'D', 'G', 'I', ’L’, ‘ D’]\n",
    "['x', 'xx', 'xxx', 'xxxx', 'y', 'yy', 'yyy', 'yyyy', 'z', 'zz', 'zzz', 'zzzz']\n",
    "['x', 'y', 'z', 'xx', 'yy', 'zz', 'xx', 'yy', 'zz', 'xxxx', 'yyyy', 'zzzz']\n",
    "[[2], [3], [4], [3], [4], [5], [4], [5], [6]]\n",
    "[[2, 3, 4, 5], [3, 4, 5, 6], [4, 5, 6, 7], [5, 6, 7, 8]]\n",
    "[(1, 1), (2, 1), (3, 1), (1, 2), (2, 2), (3, 2), (1, 3), (2, 3), (3, 3)]"
   ]
  },
  {
   "cell_type": "code",
   "execution_count": 5,
   "metadata": {},
   "outputs": [
    {
     "name": "stdout",
     "output_type": "stream",
     "text": [
      "['A', 'C', 'A', 'D', 'G', 'I', 'L', 'D']\n",
      "['x', 'xx', 'xxx', 'xxxx', 'y', 'yy', 'yyy', 'yyyy', 'z', 'zz', 'zzz', 'zzzz']\n",
      "['x', 'y', 'z', 'xx', 'yy', 'zz', 'xxx', 'yyy', 'zzz', 'xxxx', 'yyyy', 'zzzz']\n",
      "[[2], [3], [4], [3], [4], [5], [4], [5], [6]]\n",
      "[[2, 3, 4, 5], [3, 4, 5, 6], [4, 5, 6, 7], [5, 6, 7, 8]]\n",
      "[(1, 1), (2, 1), (3, 1), (1, 2), (2, 2), (3, 2), (1, 3), (2, 3), (3, 3)]\n"
     ]
    }
   ],
   "source": [
    "\n",
    "input_list= \"ACADGILD\"\n",
    "compre_list_result = [ alphabet for alphabet in input_list ]\n",
    "print (compre_list_result)\n",
    "\n",
    "input_list = ['x','y','z']\n",
    "compre_list_result =[item*num for item in input_list for num in range(1,5)]\n",
    "print (compre_list_result)\n",
    "\n",
    "input_list = ['x','y','z']\n",
    "compre_list_result = [ item*num for num in range(1,5) for item in input_list]\n",
    "print(compre_list_result)\n",
    "\n",
    "input_list = [2,3,4]\n",
    "compre_list_result = [[item+num] for item in input_list for num in range(0,3)]\n",
    "print(compre_list_result)\n",
    "\n",
    "input_list = [2,3,4,5]\n",
    "compre_list_result = [[item+num for item in input_list]for num in range(0,4)]\n",
    "print(compre_list_result)\n",
    "\n",
    "input_list=[1,2,3]\n",
    "compre_list_result = [ (b,a) for a in input_list for b in input_list]\n",
    "print (compre_list_result)\n"
   ]
  },
  {
   "cell_type": "markdown",
   "metadata": {},
   "source": [
    "3.Implement a function longestWord() that takes a list of words and returns the longest one."
   ]
  },
  {
   "cell_type": "code",
   "execution_count": 6,
   "metadata": {},
   "outputs": [
    {
     "name": "stdout",
     "output_type": "stream",
     "text": [
      "Artificial Inteligence\n"
     ]
    }
   ],
   "source": [
    "def longest_word(words_list):  \n",
    "    word_len = []  \n",
    "    for n in words_list:  \n",
    "        word_len.append((len(n),n))  \n",
    "    word_len.sort()  \n",
    "    return word_len [-1][1] \n",
    "  \n",
    "print(longest_word(['Machine Learning', 'Deep Learning','Artificial Inteligence']))  "
   ]
  },
  {
   "cell_type": "markdown",
   "metadata": {},
   "source": [
    "Task 2:\n",
    "------------\n",
    "1.1\n",
    "Write a Python Program(with class concepts) to find the area of the triangle using the below\n",
    "formula.\n",
    "area = (s*(s-a)*(s-b)*(s-c)) ** 0.5\n",
    "Function to take the length of the sides of triangle from user should be defined in the parent\n",
    "class and function to calculate the area should be defined in subclass.\n",
    "    \n",
    "    "
   ]
  },
  {
   "cell_type": "code",
   "execution_count": 58,
   "metadata": {},
   "outputs": [
    {
     "name": "stdout",
     "output_type": "stream",
     "text": [
      "Please Enter the First side of a Triangle: 20\n",
      "Please Enter the Second side of a Triangle: 20\n",
      "Please Enter the Third side of a Triangle: 10\n",
      "The area of the triangle is 96.82\n"
     ]
    }
   ],
   "source": [
    "class Triangle:\n",
    "    \n",
    "    a = float(input('Please Enter the First side of a Triangle: '))\n",
    "    b = float(input('Please Enter the Second side of a Triangle: '))\n",
    "    c = float(input('Please Enter the Third side of a Triangle: '))\n",
    "   \n",
    "    def __init__(self,a,b,c):\n",
    "        self.a = a\n",
    "        self.b = b\n",
    "        self.c = c \n",
    "        \n",
    "    class Trianglearea(Triangle):\n",
    "    \n",
    "        def area(self):\n",
    "            s = (self.a + self.b + self.c) / 2\n",
    "            area = (s*(s-self.a)*(s-self.b)*(s-self.c)) ** 0.5  \n",
    "            return area\n",
    "    \n",
    "    Ta = Trianglearea(a,b,c)\n",
    "    print('The area of the triangle is %0.2f' % Ta.area())\n",
    "        "
   ]
  },
  {
   "cell_type": "markdown",
   "metadata": {},
   "source": [
    "1.2\n",
    "Write a function filter_long_words() that takes a list of words and an integer n and returns the list\n",
    "of words that are longer than n."
   ]
  },
  {
   "cell_type": "code",
   "execution_count": 132,
   "metadata": {},
   "outputs": [
    {
     "name": "stdout",
     "output_type": "stream",
     "text": [
      "Please enter your list of words: Can AI help in fighting against Corona\n",
      "Please enter your number in integer: 5\n",
      "The List of words which  are longer than 5 is: ['fighting', 'against', 'Corona']\n"
     ]
    }
   ],
   "source": [
    "lstword= input(\"Please enter your list of words: \")\n",
    "n= int(input(\"Please enter your number in integer: \"))\n",
    "def filter_long_words(n, lstword):\n",
    "    word_len = []\n",
    "    txt = lstword.split(\" \")\n",
    "    for i in txt:\n",
    "        if len(i) > n:\n",
    "            word_len.append(i)\n",
    "    return word_len\n",
    "print(\"The List of words which  are longer than \"+str(n)+\" is: \"+ str(filter_long_words(n, lstword)))"
   ]
  },
  {
   "cell_type": "code",
   "execution_count": 12,
   "metadata": {},
   "outputs": [
    {
     "name": "stdout",
     "output_type": "stream",
     "text": [
      "['exponentialcurv', 'socialdistancing']\n"
     ]
    }
   ],
   "source": [
    "#using lambda\n",
    "def filter_long_words(words, n):\n",
    "    return filter(lambda x: len(x) > n, words)\n",
    "\n",
    "print (list(filter_long_words(['exponentialcurv','socialdistancing','quarantine','Isolation'], 11)))"
   ]
  },
  {
   "cell_type": "markdown",
   "metadata": {},
   "source": [
    "2.1\n",
    "Write a Python program using function concept that maps list of words into a list of integers\n",
    "representing the lengths of the corresponding words .\n",
    "Hint: If a list [ ab,cde,erty] is passed on to the python function output should come as [2,3,4]\n",
    "Here 2,3 and 4 are the lengths of the words in the list."
   ]
  },
  {
   "cell_type": "code",
   "execution_count": 14,
   "metadata": {},
   "outputs": [
    {
     "name": "stdout",
     "output_type": "stream",
     "text": [
      "Input : Please enter Words : wv,klmopliyesxcdertionn,k,l\n",
      "Output: Length of Words are : [2, 20, 1, 1]\n"
     ]
    }
   ],
   "source": [
    "def map_Words_to_Length(lst):\n",
    "    return list(map(len, lst))\n",
    "\n",
    "word_lst=list(input(\"Input : Please enter Words : \").split(\",\"))\n",
    "lst=[x.strip() for x in word_lst]\n",
    "\n",
    "Words_lengths=map_Words_to_Length(lst)\n",
    "\n",
    "print(\"Output: Length of Words are :\",Words_lengths )"
   ]
  },
  {
   "cell_type": "code",
   "execution_count": 15,
   "metadata": {},
   "outputs": [
    {
     "name": "stdout",
     "output_type": "stream",
     "text": [
      "Input : Please enter Words : rt,tyuiop,r,k,l\n",
      "Length of Words are: [2, 6, 1, 1, 1]\n"
     ]
    }
   ],
   "source": [
    "#using lambda\n",
    "def wordlength(word_lst):\n",
    "    return list(map(lambda x: len(x), word_lst))\n",
    "\n",
    "word_lst=list(input(\"Input : Please enter Words : \").split(\",\"))\n",
    "print (\"Length of Words are: \" + str(wordlength(word_lst)))"
   ]
  },
  {
   "cell_type": "markdown",
   "metadata": {},
   "source": [
    "2.2\n",
    "Write a Python function which takes a character (i.e. a string of length 1) and returns True if it is\n",
    "a vowel, False otherwise."
   ]
  },
  {
   "cell_type": "code",
   "execution_count": 23,
   "metadata": {},
   "outputs": [
    {
     "name": "stdout",
     "output_type": "stream",
     "text": [
      "Enter character to check that it is Vowel or not\n",
      "Input Value: a\n",
      "Output Value: True\n"
     ]
    }
   ],
   "source": [
    "def vowel_checker(inputChar):\n",
    "    return_value=''\n",
    "    if(len(inputChar)==1):\n",
    "        vowel_list=['a','e','i','o','u']\n",
    "        if (inputChar.lower() in vowel_list):\n",
    "            return_value= True\n",
    "        else:\n",
    "            return_value= False\n",
    "    else:\n",
    "        return_value=\"Please enter single character only!\"        \n",
    "    return return_value\n",
    "\n",
    "print(\"Enter character to check that it is Vowel or not\")\n",
    "input_value = input(\"Input Value: \")\n",
    "output_value=vowel_checker(input_value) \n",
    "print(\"Output Value:\",output_value)"
   ]
  },
  {
   "cell_type": "code",
   "execution_count": null,
   "metadata": {},
   "outputs": [],
   "source": []
  }
 ],
 "metadata": {
  "kernelspec": {
   "display_name": "Python 3",
   "language": "python",
   "name": "python3"
  },
  "language_info": {
   "codemirror_mode": {
    "name": "ipython",
    "version": 3
   },
   "file_extension": ".py",
   "mimetype": "text/x-python",
   "name": "python",
   "nbconvert_exporter": "python",
   "pygments_lexer": "ipython3",
   "version": "3.7.4"
  }
 },
 "nbformat": 4,
 "nbformat_minor": 2
}
