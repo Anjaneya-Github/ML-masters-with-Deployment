{
 "cells": [
  {
   "cell_type": "code",
   "execution_count": 5,
   "metadata": {},
   "outputs": [
    {
     "name": "stdout",
     "output_type": "stream",
     "text": [
      "Inside A----->Parent class\n",
      "Inside B----->Parent class\n"
     ]
    }
   ],
   "source": [
    "class A: \n",
    "  \n",
    "\n",
    "    def test(self): \n",
    "        print(\"Inside A----->Parent class\") \n",
    "        \n",
    "class B: \n",
    "    \n",
    "    def test(self): \n",
    "        print(\"Inside B----->Parent class\") \n",
    "\n",
    "class C(A,B): \n",
    "    \n",
    "        obj=A().test()\n",
    "        obj=B().test()"
   ]
  }
 ],
 "metadata": {
  "kernelspec": {
   "display_name": "Python 3",
   "language": "python",
   "name": "python3"
  },
  "language_info": {
   "codemirror_mode": {
    "name": "ipython",
    "version": 3
   },
   "file_extension": ".py",
   "mimetype": "text/x-python",
   "name": "python",
   "nbconvert_exporter": "python",
   "pygments_lexer": "ipython3",
   "version": "3.7.4"
  }
 },
 "nbformat": 4,
 "nbformat_minor": 2
}
