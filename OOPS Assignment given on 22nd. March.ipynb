{
 "cells": [
  {
   "cell_type": "code",
   "execution_count": null,
   "metadata": {},
   "outputs": [],
   "source": [
    "OOPS Assignment"
   ]
  },
  {
   "cell_type": "code",
   "execution_count": 8,
   "metadata": {},
   "outputs": [
    {
     "name": "stdout",
     "output_type": "stream",
     "text": [
      "The Sum of Two =  30\n",
      "The Sum of Three =  60\n"
     ]
    }
   ],
   "source": [
    "class A: \n",
    "    def test(self, a, b):\n",
    "        print('The Sum of Two = ', a + b)\n",
    "        \n",
    "class B: \n",
    "    def test(self, a, b, c):\n",
    "        print('The Sum of Three = ', a + b + c)\n",
    "        \n",
    "\n",
    "class C(A, B):\n",
    "    \n",
    "    def test(self, a, b, c):\n",
    "        \n",
    "        A.test(self, a , b)\n",
    "        B.test(self, a, b, c)   \n",
    "            \n",
    "\n",
    "c1 = C()  \n",
    "c1.test(10,20,30)\n",
    "\n",
    "        "
   ]
  },
  {
   "cell_type": "code",
   "execution_count": null,
   "metadata": {},
   "outputs": [],
   "source": []
  }
 ],
 "metadata": {
  "kernelspec": {
   "display_name": "Python 3",
   "language": "python",
   "name": "python3"
  },
  "language_info": {
   "codemirror_mode": {
    "name": "ipython",
    "version": 3
   },
   "file_extension": ".py",
   "mimetype": "text/x-python",
   "name": "python",
   "nbconvert_exporter": "python",
   "pygments_lexer": "ipython3",
   "version": "3.7.4"
  }
 },
 "nbformat": 4,
 "nbformat_minor": 2
}
